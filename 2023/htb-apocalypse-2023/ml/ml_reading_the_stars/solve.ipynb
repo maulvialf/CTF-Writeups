{
 "cells": [
  {
   "attachments": {},
   "cell_type": "markdown",
   "metadata": {},
   "source": [
    "Solver for reading the stars"
   ]
  },
  {
   "cell_type": "code",
   "execution_count": null,
   "metadata": {
    "cell_id": "888ef7b8db0143c4abf63348c582ffa7",
    "deepnote_app_coordinates": {
     "h": 16,
     "w": 12,
     "x": 0,
     "y": 6
    },
    "deepnote_cell_type": "code",
    "deepnote_to_be_reexecuted": false,
    "execution_millis": 2006,
    "execution_start": 1678285664107,
    "source_hash": "d1ecb257",
    "tags": []
   },
   "outputs": [],
   "source": [
    "# Module Initialization\n",
    "\n",
    "import numpy as np\n",
    "import matplotlib.pyplot as plt\n",
    "import matplotlib\n",
    "\n",
    "import torch\n",
    "from torch import nn\n",
    "from torchvision import transforms\n",
    "preprocess = transforms.Compose([\n",
    "    transforms.Normalize(\n",
    "        mean=np.array([0.1086, 0.0934, 0.0711]),\n",
    "        std=np.array([0.1472, 0.123, 0.1032]))\n",
    "])\n",
    "\n",
    "import h5py\n",
    "\n",
    "SEED = 1337\n",
    "torch.manual_seed(SEED)\n",
    "np.random.seed(SEED)\n",
    "torch.use_deterministic_algorithms(True)\n",
    "\n",
    "from model import StarChartModel, StarData"
   ]
  },
  {
   "cell_type": "code",
   "execution_count": 3,
   "metadata": {
    "cell_id": "8688086be0924bc1ac32923003ba0eef",
    "deepnote_app_coordinates": {
     "h": 5,
     "w": 12,
     "x": 0,
     "y": 23
    },
    "deepnote_cell_type": "code",
    "deepnote_to_be_reexecuted": false,
    "execution_millis": 296,
    "execution_start": 1678285666114,
    "source_hash": "cc097ebf",
    "tags": []
   },
   "outputs": [],
   "source": [
    "# Setup for training dataset - 1\n",
    "\n",
    "with h5py.File(\"train.1.h5\", \"r\") as F:\n",
    "    train_images1 = np.array(F[\"X\"])\n",
    "    train_labels1 = np.array(F[\"y\"])\n",
    "with h5py.File(\"train.2.h5\", \"r\") as F:\n",
    "    train_images2 = np.array(F[\"X\"])\n",
    "    train_labels2 = np.array(F[\"y\"])\n",
    "train_images = np.concatenate((train_images1, train_images2))\n",
    "train_labels = np.concatenate((train_labels1, train_labels2))"
   ]
  },
  {
   "cell_type": "code",
   "execution_count": 4,
   "metadata": {
    "cell_id": "88421b5f96204c07bad50bcb5353e295",
    "deepnote_app_coordinates": {
     "h": 6,
     "w": 12,
     "x": 0,
     "y": 29
    },
    "deepnote_cell_type": "code",
    "deepnote_to_be_reexecuted": false,
    "execution_millis": 364,
    "execution_start": 1678285666411,
    "source_hash": "76bc7c78",
    "tags": []
   },
   "outputs": [],
   "source": [
    "# Setup for training dataset - setup model\n",
    "\n",
    "batch_size = 32\n",
    "train_set = StarData((train_images.transpose(0,3,1,2)/255), train_labels, transform=preprocess)\n",
    "train_loader = torch.utils.data.DataLoader(train_set, batch_size=batch_size,\n",
    "    shuffle=True, num_workers=1, pin_memory=True)"
   ]
  },
  {
   "cell_type": "code",
   "execution_count": 5,
   "metadata": {
    "cell_id": "a8879eef501d4a499f3ad5a0c6abc27f",
    "deepnote_app_coordinates": {
     "h": 3,
     "w": 12,
     "x": 0,
     "y": 36
    },
    "deepnote_cell_type": "code",
    "deepnote_to_be_reexecuted": false,
    "execution_millis": 4,
    "execution_start": 1678285666776,
    "source_hash": "bad507f7",
    "tags": []
   },
   "outputs": [],
   "source": [
    "# Create array for flag as qr image in 33 x 33\n",
    "\n",
    "flag = np.zeros((33,33))"
   ]
  },
  {
   "cell_type": "code",
   "execution_count": 6,
   "metadata": {
    "cell_id": "47f7c61bf5f641639e244778ce94f8fb",
    "deepnote_cell_type": "code",
    "tags": []
   },
   "outputs": [],
   "source": [
    "# Training dataset\n",
    "\n",
    "model = StarChartModel([0.3,0.15])\n",
    "model.train()\n",
    "\n",
    "loss_func = nn.CrossEntropyLoss()\n",
    "optimizer = torch.optim.Adam(model.parameters(), 0.0005)"
   ]
  },
  {
   "cell_type": "code",
   "execution_count": 7,
   "metadata": {},
   "outputs": [
    {
     "name": "stdout",
     "output_type": "stream",
     "text": [
      "Epoch [1/50], Loss: 0.650809\n",
      "Epoch [2/50], Loss: 0.481797\n",
      "Epoch [3/50], Loss: 0.437756\n",
      "Epoch [4/50], Loss: 0.424036\n",
      "Epoch [5/50], Loss: 0.408969\n",
      "Epoch [6/50], Loss: 0.399611\n",
      "Epoch [7/50], Loss: 0.392899\n",
      "Epoch [8/50], Loss: 0.391958\n",
      "Epoch [9/50], Loss: 0.387949\n",
      "Epoch [10/50], Loss: 0.380210\n",
      "Epoch [11/50], Loss: 0.378262\n",
      "Epoch [12/50], Loss: 0.375539\n",
      "Epoch [13/50], Loss: 0.376360\n",
      "Epoch [14/50], Loss: 0.371174\n",
      "Epoch [15/50], Loss: 0.370830\n",
      "Epoch [16/50], Loss: 0.367376\n",
      "Epoch [17/50], Loss: 0.368680\n",
      "Epoch [18/50], Loss: 0.365553\n",
      "Epoch [19/50], Loss: 0.367930\n",
      "Epoch [20/50], Loss: 0.363411\n",
      "Epoch [21/50], Loss: 0.363600\n",
      "Epoch [22/50], Loss: 0.360305\n",
      "Epoch [23/50], Loss: 0.359009\n",
      "Epoch [24/50], Loss: 0.355762\n",
      "Epoch [25/50], Loss: 0.358112\n",
      "Epoch [26/50], Loss: 0.357742\n",
      "Epoch [27/50], Loss: 0.356733\n",
      "Epoch [28/50], Loss: 0.357835\n",
      "Epoch [29/50], Loss: 0.356348\n",
      "Epoch [30/50], Loss: 0.356412\n",
      "Epoch [31/50], Loss: 0.357918\n",
      "Epoch [32/50], Loss: 0.355139\n",
      "Epoch [33/50], Loss: 0.355634\n",
      "Epoch [34/50], Loss: 0.362653\n",
      "Epoch [35/50], Loss: 0.352621\n",
      "Epoch [36/50], Loss: 0.350654\n",
      "Epoch [37/50], Loss: 0.352142\n",
      "Epoch [38/50], Loss: 0.350837\n",
      "Epoch [39/50], Loss: 0.348991\n",
      "Epoch [40/50], Loss: 0.346315\n",
      "Epoch [41/50], Loss: 0.352187\n",
      "Epoch [42/50], Loss: 0.347588\n",
      "Epoch [43/50], Loss: 0.351365\n",
      "Epoch [44/50], Loss: 0.350663\n",
      "Epoch [45/50], Loss: 0.348160\n",
      "Epoch [46/50], Loss: 0.348384\n",
      "Epoch [47/50], Loss: 0.347691\n",
      "Epoch [48/50], Loss: 0.349125\n",
      "Epoch [49/50], Loss: 0.349838\n",
      "Epoch [50/50], Loss: 0.345371\n"
     ]
    }
   ],
   "source": [
    "# Training dataset with 50 epoch\n",
    "\n",
    "# Add this code to your main script\n",
    "num_epochs = 50  # Set the number of epochs for training\n",
    "\n",
    "for epoch in range(num_epochs):\n",
    "    epoch_loss = 0\n",
    "    for i, (X, y, target_class) in enumerate(train_loader):\n",
    "        optimizer.zero_grad()\n",
    "        outputs = model(X)\n",
    "        loss = loss_func(outputs, target_class)\n",
    "        loss.backward()\n",
    "        optimizer.step()\n",
    "        epoch_loss += loss.item()\n",
    "\n",
    "    print(f\"Epoch [{epoch+1}/{num_epochs}], Loss: {epoch_loss/len(train_loader):.6f}\")"
   ]
  },
  {
   "cell_type": "code",
   "execution_count": 8,
   "metadata": {},
   "outputs": [],
   "source": [
    "# Setup data test\n",
    "\n",
    "with h5py.File(\"test.h5/test.h5\", \"r\") as F:\n",
    "    test_images = np.array(F[\"X\"])\n",
    "\n",
    "test_set = StarData((test_images.reshape(-1, 69, 69, 3).transpose(0, 3, 1, 2) / 255), None, transform=preprocess)\n",
    "test_loader = torch.utils.data.DataLoader(test_set, batch_size=1, shuffle=False, num_workers=1, pin_memory=True)"
   ]
  },
  {
   "cell_type": "code",
   "execution_count": 9,
   "metadata": {},
   "outputs": [],
   "source": [
    "# Predict data test from model that already trained, split every two dataset and find average\n",
    "\n",
    "model.eval()\n",
    "predicted_labels = []\n",
    "\n",
    "for i in range(0, len(test_set), 2):\n",
    "    outputs = []\n",
    "    for j in range(2):\n",
    "        X = test_set[i + j]\n",
    "        output = model(X[0].unsqueeze(0))\n",
    "        outputs.append(output)\n",
    "    avg_outputs = torch.mean(torch.stack(outputs), dim=0)\n",
    "    _, pred = torch.max(avg_outputs, 1)\n",
    "    predicted_labels.append(pred.item())\n",
    "\n",
    "predicted_labels = np.array(predicted_labels).reshape(33, 33)"
   ]
  },
  {
   "cell_type": "code",
   "execution_count": 10,
   "metadata": {},
   "outputs": [
    {
     "data": {
      "image/png": "[encoded data removed]",
      "text/plain": [
       "<Figure size 600x600 with 1 Axes>"
      ]
     },
     "metadata": {},
     "output_type": "display_data"
    }
   ],
   "source": [
    "# Draw classification result\n",
    "\n",
    "# Add this code to your main script\n",
    "plt.figure(figsize=(6, 6))\n",
    "plt.imshow(predicted_labels, cmap='gray')\n",
    "plt.axis('off')\n",
    "plt.show()"
   ]
  }
 ],
 "metadata": {
  "deepnote": {},
  "deepnote_app_layout": "article",
  "deepnote_execution_queue": [],
  "deepnote_notebook_id": "19b7cbf3eabc432d8a95d377aff22e0c",
  "kernelspec": {
   "display_name": "Python 3",
   "language": "python",
   "name": "python3"
  },
  "language_info": {
   "codemirror_mode": {
    "name": "ipython",
    "version": 3
   },
   "file_extension": ".py",
   "mimetype": "text/x-python",
   "name": "python",
   "nbconvert_exporter": "python",
   "pygments_lexer": "ipython3",
   "version": "3.9.13"
  }
 },
 "nbformat": 4,
 "nbformat_minor": 1
}
